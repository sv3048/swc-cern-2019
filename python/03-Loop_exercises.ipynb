{
 "cells": [
  {
   "cell_type": "markdown",
   "metadata": {},
   "source": [
    "### From 1 to N\n",
    "Python has a built-in function called `range` that generates a sequence of numbers. `range` can accept 1, 2, or 3 parameters.\n",
    "\n",
    "* If one parameter is given, range generates a sequence of that length, starting at zero and incrementing by 1. For example, `range(3)` produces the numbers `0, 1, 2`.\n",
    "* If two parameters are given, range starts at the first and ends just before the second, incrementing by one. For example, `range(2, 5)` produces `2, 3, 4`.\n",
    "* If `range` is given 3 parameters, it starts at the first one, ends just before the second one, and increments by the third one. For example, `range(3, 10, 2)` produces `3, 5, 7, 9`.\n",
    "\n",
    "Using range, write a loop that uses `range` to print the first 3 natural numbers:\n",
    "\n",
    "```\n",
    "1\n",
    "2\n",
    "3\n",
    "```\n"
   ]
  },
  {
   "cell_type": "code",
   "execution_count": null,
   "metadata": {},
   "outputs": [],
   "source": []
  },
  {
   "cell_type": "markdown",
   "metadata": {},
   "source": [
    "---"
   ]
  },
  {
   "cell_type": "markdown",
   "metadata": {},
   "source": [
    "### Understanding the loops\n",
    "Given the following loop:\n",
    "\n",
    "```python\n",
    "word = 'oxygen'\n",
    "for char in word:\n",
    "    print(char)\n",
    "```\n",
    "    \n",
    "How many times is the body of the loop executed?\n",
    "\n",
    "* 3 times\n",
    "* 4 times\n",
    "* 5 times\n",
    "* 6 times\n"
   ]
  },
  {
   "cell_type": "code",
   "execution_count": null,
   "metadata": {},
   "outputs": [],
   "source": []
  },
  {
   "cell_type": "markdown",
   "metadata": {},
   "source": [
    "---"
   ]
  },
  {
   "cell_type": "markdown",
   "metadata": {},
   "source": [
    "### Computing Powers With Loops\n",
    "Exponentiation is built into Python:\n",
    "\n",
    "Python:\n",
    "```python\n",
    "print(5 ** 3)\n",
    "```\n",
    "Output:\n",
    "```\n",
    "125\n",
    "```\n",
    "Write a loop that calculates the same result as `5 ** 3` using multiplication (and without exponentiation)."
   ]
  },
  {
   "cell_type": "code",
   "execution_count": 4,
   "metadata": {},
   "outputs": [
    {
     "name": "stdout",
     "output_type": "stream",
     "text": [
      "125\n"
     ]
    }
   ],
   "source": [
    "import numpy\n",
    "result = 1\n",
    "for number in range(3):\n",
    "    result = result * 5\n",
    "print(result)"
   ]
  },
  {
   "cell_type": "markdown",
   "metadata": {},
   "source": [
    "---"
   ]
  },
  {
   "cell_type": "markdown",
   "metadata": {},
   "source": [
    "### Reverse a String\n",
    "Knowing that two strings can be concatenated using the `+` operator, write a loop that takes a string and produces a new string with the characters in reverse order, so `'Newton'` becomes `'notweN'`."
   ]
  },
  {
   "cell_type": "code",
   "execution_count": null,
   "metadata": {},
   "outputs": [],
   "source": []
  },
  {
   "cell_type": "markdown",
   "metadata": {},
   "source": [
    "---"
   ]
  },
  {
   "cell_type": "markdown",
   "metadata": {},
   "source": [
    "### Computing the Value of a Polynomial\n",
    "The built-in function `enumerate` takes a sequence (e.g. a list) and generates a new sequence of the same length. Each element of the new sequence is a pair composed of the index (0, 1, 2,…) and the value from the original sequence:\n",
    "\n",
    "```python\n",
    "for idx, val in enumerate(a_list):\n",
    "    # Do something using idx and val\n",
    "```\n",
    "    \n",
    "The code above loops through `a_list`, assigning the index to `idx` and the value to `val`.\n",
    "\n",
    "Suppose you have encoded a polynomial as a list of coefficients in the following way: the first element is the constant term, the second element is the coefficient of the linear term, the third is the coefficient of the quadratic term, etc.\n",
    "\n",
    "```python\n",
    "x = 5\n",
    "coefs = [2, 4, 3]\n",
    "y = coefs[0] * x**0 + coefs[1] * x**1 + coefs[2] * x**2\n",
    "print(y)\n",
    "```\n",
    "Output:\n",
    "```\n",
    "97\n",
    "```\n",
    "Write a loop using `enumerate(coefs)` which computes the value `y` of any polynomial, given `x` and `coefs`."
   ]
  },
  {
   "cell_type": "code",
   "execution_count": null,
   "metadata": {},
   "outputs": [],
   "source": []
  }
 ],
 "metadata": {
  "kernelspec": {
   "display_name": "Python 3",
   "language": "python",
   "name": "python3"
  },
  "language_info": {
   "codemirror_mode": {
    "name": "ipython",
    "version": 3
   },
   "file_extension": ".py",
   "mimetype": "text/x-python",
   "name": "python",
   "nbconvert_exporter": "python",
   "pygments_lexer": "ipython3",
   "version": "3.6.9"
  }
 },
 "nbformat": 4,
 "nbformat_minor": 2
}
